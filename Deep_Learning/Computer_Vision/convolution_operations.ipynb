{
 "cells": [
  {
   "cell_type": "code",
   "execution_count": 3,
   "metadata": {},
   "outputs": [],
   "source": [
    "import numpy as np\n",
    "import matplotlib.pyplot as plt"
   ]
  },
  {
   "cell_type": "code",
   "execution_count": 18,
   "metadata": {},
   "outputs": [],
   "source": [
    "def zero_pad(x, pad):\n",
    "    \"\"\"Pad with zeros all images of the dataset x\"\"\"\n",
    "    \n",
    "    x_pad = np.pad(x, ((0,0), (pad, pad), (pad, pad), (0,0)), 'constant', constant_values=0)\n",
    "    return x_pad"
   ]
  },
  {
   "cell_type": "code",
   "execution_count": 19,
   "metadata": {},
   "outputs": [
    {
     "name": "stdout",
     "output_type": "stream",
     "text": [
      "x.shape (4, 3, 3, 2)\n",
      "x_pad.shape (4, 7, 7, 2)\n"
     ]
    },
    {
     "data": {
      "text/plain": [
       "<matplotlib.image.AxesImage at 0x7f855ce8dc50>"
      ]
     },
     "execution_count": 19,
     "metadata": {},
     "output_type": "execute_result"
    },
    {
     "data": {
      "image/png": "[encoded data removed]",
      "text/plain": [
       "<Figure size 432x288 with 2 Axes>"
      ]
     },
     "metadata": {
      "needs_background": "light"
     },
     "output_type": "display_data"
    }
   ],
   "source": [
    "np.random.seed(1)\n",
    "x = np.random.randn(4, 3, 3, 2)\n",
    "x_pad = zero_pad(x, 2)\n",
    "print(f'x.shape {x.shape}')\n",
    "print(f'x_pad.shape {x_pad.shape}')\n",
    "\n",
    "fig, ax = plt.subplots(1, 2)\n",
    "ax[0].set_title('x')\n",
    "ax[0].imshow(x[0,:,:,0])\n",
    "ax[1].set_title('x_pad')\n",
    "ax[1].imshow(x_pad[0,:,:,0])"
   ]
  },
  {
   "cell_type": "code",
   "execution_count": 32,
   "metadata": {},
   "outputs": [],
   "source": [
    "def conv_single_step(a, w, b):\n",
    "    \"\"\"\n",
    "    Apply filter defined by parameters w on a single slice\n",
    "    of the output activation of previous layer.\n",
    "    \"\"\"\n",
    "    s = np.multiply(a, w) + b\n",
    "    z = np.sum(s)\n",
    "    return z"
   ]
  },
  {
   "cell_type": "code",
   "execution_count": 33,
   "metadata": {},
   "outputs": [
    {
     "name": "stdout",
     "output_type": "stream",
     "text": [
      "z is -23.16021220252078\n"
     ]
    }
   ],
   "source": [
    "np.random.seed(1)\n",
    "a = np.random.randn(4, 4, 3)\n",
    "w = np.random.randn(4, 4, 3)\n",
    "b = np.random.randn(1, 1, 1)\n",
    "\n",
    "\n",
    "z = conv_single_step(a, w, b)\n",
    "print(f'z is {z}')"
   ]
  },
  {
   "cell_type": "code",
   "execution_count": 51,
   "metadata": {},
   "outputs": [],
   "source": [
    "def convolution_operation(a, w, b, parameters):\n",
    "    \"\"\"\n",
    "    Convolution operation on previous input layer 'a' \n",
    "    \"\"\"\n",
    "    n, v_prev, h_prev, c_prev = a.shape\n",
    "    f, f, c_prev, c_f = w.shape\n",
    "    \n",
    "    stride = parameters['stride']\n",
    "    pad = parameters['pad']\n",
    "    \n",
    "    o_v = int((v_prev -f + 2*pad) / stride) + 1\n",
    "    o_h = int((h_prev -f + 2*pad) / stride) + 1\n",
    "    \n",
    "    z = np.zeros((n, o_v, o_h, c_f))\n",
    "    a_pad = zero_pad(a, pad)\n",
    "    \n",
    "    for i in range(n):\n",
    "        current_a = a_pad[i]\n",
    "        for v in range(o_v):\n",
    "            for h in range(o_h):\n",
    "                for c in range(c_f):\n",
    "                    \n",
    "                    vert_start = v * stride\n",
    "                    vert_end = vert_start + f\n",
    "                    horiz_start = h * stride\n",
    "                    horiz_end = horiz_start + f \n",
    "                    \n",
    "                    current_a_slice = current_a[vert_start:vert_end, horiz_start:horiz_end, :]\n",
    "                    z[i, v, h, c] = conv_single_step(current_a_slice, w[...,c], b[...,c])\n",
    "                    \n",
    "    assert(z.shape == (n, o_v, o_h, c_f))\n",
    "    \n",
    "    cache = (a_prev, w, b, parameters)\n",
    "    return z, cache\n",
    "\n"
   ]
  },
  {
   "cell_type": "code",
   "execution_count": 52,
   "metadata": {},
   "outputs": [
    {
     "name": "stdout",
     "output_type": "stream",
     "text": [
      "Z means is 0.15585932488906465\n"
     ]
    },
    {
     "data": {
      "text/plain": [
       "'\\nFinally, CONV layer should also contain an activation, in which case we would add the following line of code:\\nA[i, h, w, c] = activation(Z[i, h, w, c])\\n'"
      ]
     },
     "execution_count": 52,
     "metadata": {},
     "output_type": "execute_result"
    }
   ],
   "source": [
    "np.random.seed(1)\n",
    "a_prev = np.random.randn(10, 4, 4, 3)\n",
    "w = np.random.randn(2, 2, 3, 8)\n",
    "b = np.random.randn(1, 1, 1, 8)\n",
    "parameters = {\"pad\":2, \"stride\":1}\n",
    "\n",
    "z, cache_conv = convolution_operation(a_prev, w, b, parameters)\n",
    "print(f'Z means is {np.mean(z)}')\n",
    "\"\"\"\n",
    "Finally, CONV layer should also contain an activation, in which case we would add the following line of code:\n",
    "A[i, h, w, c] = activation(Z[i, h, w, c])\n",
    "\"\"\""
   ]
  },
  {
   "cell_type": "code",
   "execution_count": 58,
   "metadata": {},
   "outputs": [],
   "source": [
    "def pooling_operation(a, parameters, mode='max'):\n",
    "    \"\"\"\n",
    "    Pooling operation on given previous input layer 'a'\n",
    "    \"\"\"\n",
    "    n, v_prev, h_prev, c_prev = a.shape\n",
    "    f = parameters['f']\n",
    "    stride = parameters['stride']\n",
    "    \n",
    "    o_v = int(1 + (v_prev-f) / stride)\n",
    "    o_h = int(1 + (h_prev-f) / stride)\n",
    "    c_f = c_prev\n",
    "    \n",
    "    z = np.zeros((n, o_v, o_h, c_f))\n",
    "    \n",
    "    for i in range(n):\n",
    "        for v in range(o_v):\n",
    "            for h in range(o_h):\n",
    "                for c in range(c_f):\n",
    "                    \n",
    "                    vert_start = v * stride\n",
    "                    vert_end = vert_start + f\n",
    "                    horiz_start = h * stride\n",
    "                    horiz_end = horiz_start + f\n",
    "                    \n",
    "                    a_prev_slice = a[i, vert_start:vert_end, horiz_start:horiz_end, c]\n",
    "                    \n",
    "                    if mode == 'max':\n",
    "                        z[i, v, h, c] = np.max(a_prev_slice)\n",
    "                    elif mode == 'average':\n",
    "                        z[i, v, h, c ] = np.mean(a_prev_slice)\n",
    "    cache = a, parameters \n",
    "    return z, cache\n"
   ]
  },
  {
   "cell_type": "code",
   "execution_count": 66,
   "metadata": {},
   "outputs": [
    {
     "name": "stdout",
     "output_type": "stream",
     "text": [
      "Max Pooling\n",
      "[[[[1.74481176 1.6924546  2.10025514]]]\n",
      "\n",
      "\n",
      " [[[1.19891788 1.51981682 2.18557541]]]]\n",
      "\n",
      "\n",
      "Average Pooling\n",
      "[[[[-0.09498456  0.11180064 -0.14263511]]]\n",
      "\n",
      "\n",
      " [[[-0.09525108  0.28325018  0.33035185]]]]\n"
     ]
    }
   ],
   "source": [
    "np.random.seed(1)\n",
    "a_prev = np.random.randn(2, 4, 4, 3)\n",
    "parameters = {\"stride\":1, \"f\":4}\n",
    "\n",
    "a_output, cache = pooling_operation(a_prev, parameters)\n",
    "print('Max Pooling')\n",
    "print(a_output)\n",
    "print('\\n')\n",
    "print('Average Pooling')\n",
    "a_output, cache = pooling_operation(a_prev, parameters, mode='average')\n",
    "print(a_output)"
   ]
  },
  {
   "cell_type": "code",
   "execution_count": null,
   "metadata": {},
   "outputs": [],
   "source": []
  },
  {
   "cell_type": "code",
   "execution_count": null,
   "metadata": {},
   "outputs": [],
   "source": []
  },
  {
   "cell_type": "code",
   "execution_count": null,
   "metadata": {},
   "outputs": [],
   "source": []
  },
  {
   "cell_type": "code",
   "execution_count": null,
   "metadata": {},
   "outputs": [],
   "source": []
  },
  {
   "cell_type": "code",
   "execution_count": null,
   "metadata": {},
   "outputs": [],
   "source": []
  }
 ],
 "metadata": {
  "kernelspec": {
   "display_name": "Python 3",
   "language": "python",
   "name": "python3"
  },
  "language_info": {
   "codemirror_mode": {
    "name": "ipython",
    "version": 3
   },
   "file_extension": ".py",
   "mimetype": "text/x-python",
   "name": "python",
   "nbconvert_exporter": "python",
   "pygments_lexer": "ipython3",
   "version": "3.6.6"
  }
 },
 "nbformat": 4,
 "nbformat_minor": 4
}
